{
 "cells": [
  {
   "cell_type": "markdown",
   "metadata": {},
   "source": [
    "1. Good\n",
    "2. Bad\n",
    "This question is way too broad. \n",
    "A better question would be Has the rate of juvenile delinquency declined in the U.S. since 2000?\n",
    "3. Bad, again too broad\n",
    "A better question would be What is the education of juvenile deliquents in the U.S?\n",
    "4. Good\n",
    "5. Good\n",
    "6. Bad too broad\n",
    "What factors are causing At&t to lose customers?\n",
    "7. Bad too broad\n",
    "What were the contributing factors to the Challenger exploding?\n",
    "8. Good\n",
    "9. Good\n",
    "10. Bad too broad\n",
    "What variables allow Google's search engine to work properly?"
   ]
  }
 ],
 "metadata": {
  "kernelspec": {
   "display_name": "Python 3",
   "language": "python",
   "name": "python3"
  },
  "language_info": {
   "codemirror_mode": {
    "name": "ipython",
    "version": 3
   },
   "file_extension": ".py",
   "mimetype": "text/x-python",
   "name": "python",
   "nbconvert_exporter": "python",
   "pygments_lexer": "ipython3",
   "version": "3.6.1"
  }
 },
 "nbformat": 4,
 "nbformat_minor": 2
}
